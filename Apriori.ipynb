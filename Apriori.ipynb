{
  "nbformat": 4,
  "nbformat_minor": 0,
  "metadata": {
    "colab": {
      "name": "Apriori.ipynb",
      "provenance": [],
      "authorship_tag": "ABX9TyOV9bRbBisNuHRBee2wawmD",
      "include_colab_link": true
    },
    "kernelspec": {
      "name": "python3",
      "display_name": "Python 3"
    },
    "language_info": {
      "name": "python"
    }
  },
  "cells": [
    {
      "cell_type": "markdown",
      "metadata": {
        "id": "view-in-github",
        "colab_type": "text"
      },
      "source": [
        "<a href=\"https://colab.research.google.com/github/voilszee/kelompok-11-apm/blob/main/Apriori.ipynb\" target=\"_parent\"><img src=\"https://colab.research.google.com/assets/colab-badge.svg\" alt=\"Open In Colab\"/></a>"
      ]
    },
    {
      "cell_type": "code",
      "execution_count": 1,
      "metadata": {
        "colab": {
          "base_uri": "https://localhost:8080/"
        },
        "id": "-SJynCKnkOpc",
        "outputId": "d539ef00-670b-4043-c1eb-5a2e1fc75954"
      },
      "outputs": [
        {
          "output_type": "stream",
          "name": "stdout",
          "text": [
            "Looking in indexes: https://pypi.org/simple, https://us-python.pkg.dev/colab-wheels/public/simple/\n",
            "Collecting apyori\n",
            "  Downloading apyori-1.1.2.tar.gz (8.6 kB)\n",
            "Building wheels for collected packages: apyori\n",
            "  Building wheel for apyori (setup.py) ... \u001b[?25l\u001b[?25hdone\n",
            "  Created wheel for apyori: filename=apyori-1.1.2-py3-none-any.whl size=5974 sha256=2226b20b9e4f6efb48e98edeb0b7462e2ccb77d4590a3337ac8c8b1987493155\n",
            "  Stored in directory: /root/.cache/pip/wheels/cb/f6/e1/57973c631d27efd1a2f375bd6a83b2a616c4021f24aab84080\n",
            "Successfully built apyori\n",
            "Installing collected packages: apyori\n",
            "Successfully installed apyori-1.1.2\n"
          ]
        }
      ],
      "source": [
        "# Menginstal paket yang diperlukan\n",
        "pip install apyori --upgrade"
      ]
    },
    {
      "cell_type": "code",
      "source": [
        "# import data\n",
        "from google.colab import files\n",
        "uploaded = files.upload()"
      ],
      "metadata": {
        "colab": {
          "resources": {
            "http://localhost:8080/nbextensions/google.colab/files.js": {
              "data": "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",
              "ok": true,
              "headers": [
                [
                  "content-type",
                  "application/javascript"
                ]
              ],
              "status": 200,
              "status_text": ""
            }
          },
          "base_uri": "https://localhost:8080/",
          "height": 74
        },
        "id": "PdZ_lDdHr7bw",
        "outputId": "ea9aa1da-3cad-4e4d-b64e-853a53a416ca"
      },
      "execution_count": 2,
      "outputs": [
        {
          "output_type": "display_data",
          "data": {
            "text/plain": [
              "<IPython.core.display.HTML object>"
            ],
            "text/html": [
              "\n",
              "     <input type=\"file\" id=\"files-db48b055-14b7-42a2-ab37-e9b45b0345d2\" name=\"files[]\" multiple disabled\n",
              "        style=\"border:none\" />\n",
              "     <output id=\"result-db48b055-14b7-42a2-ab37-e9b45b0345d2\">\n",
              "      Upload widget is only available when the cell has been executed in the\n",
              "      current browser session. Please rerun this cell to enable.\n",
              "      </output>\n",
              "      <script src=\"/nbextensions/google.colab/files.js\"></script> "
            ]
          },
          "metadata": {}
        },
        {
          "output_type": "stream",
          "name": "stdout",
          "text": [
            "Saving football_players.csv to football_players.csv\n"
          ]
        }
      ]
    },
    {
      "cell_type": "code",
      "source": [
        "# Mengimpor libraries\n",
        "import numpy as np\n",
        "import pandas as pd\n",
        "from apyori import apriori\n",
        "import io"
      ],
      "metadata": {
        "id": "_7lHuzK2sDqn"
      },
      "execution_count": 3,
      "outputs": []
    },
    {
      "cell_type": "code",
      "source": [
        "# Memilih data\n",
        "df = pd.read_csv(io.BytesIO(uploaded['football_players.csv']), encoding= 'latin-1')\n",
        "data = df[['Origin','Player','Position']]\n",
        "print(data)"
      ],
      "metadata": {
        "colab": {
          "base_uri": "https://localhost:8080/"
        },
        "id": "ae_mqJC7sIVO",
        "outputId": "cfece5c2-3db5-40d5-a881-f732e02ad513"
      },
      "execution_count": 4,
      "outputs": [
        {
          "output_type": "stream",
          "name": "stdout",
          "text": [
            "                    Origin                       Player    Position\n",
            "0                   Brazil                       Neymar     Forward\n",
            "1                   France               Kylian MbappÃ©     Forward\n",
            "2                   Brazil            Philippe Coutinho  Midfielder\n",
            "3                 Portugal                 JoÃ£o FÃ©lix     Forward\n",
            "4                   France            Antoine Griezmann     Forward\n",
            "5                  England                Jack Grealish  Midfielder\n",
            "6                   France                   Paul Pogba  Midfielder\n",
            "7                   France            Ousmane DembÃ©lÃ©     Forward\n",
            "8                    Wakes                  Gareth Bale     Forward\n",
            "9                 Portugal            Cristiano Ronaldo     Forward\n",
            "10                 Belgium                  Eden Hazard     Forward\n",
            "11                Portugal            Cristiano Ronaldo     Forward\n",
            "12               Argentina             Gonzalo HiguaÃ­n     Striker\n",
            "13                 England                Harry Maguire    Defender\n",
            "14                 Belgium                Romelu Lukaku     Striker\n",
            "15                 England                 Jadon Sancho  Midfielder\n",
            "16             Netherlands              Virgil van Dijk    Defender\n",
            "17                 Uruguay                 Luis SuÃ¡rez     Striker\n",
            "18                   Spain            Kepa Arrizabalaga  Goalkeeper\n",
            "19             Ivory Coast               Nicolas PÃ©pÃ©     Forward\n",
            "20                  France              Lucas Hernandez    Defender\n",
            "21                 Belgium                Romelu Lukaku     Striker\n",
            "22                 Germany                  Kai Havertz  Midfielder\n",
            "23                  France              Zinedine Zidane  Midfielder\n",
            "24               Argentina             Ãngel Di MarÃ­a  Midfielder\n",
            "25             Netherlands             Matthijs de Ligt    Defender\n",
            "26             Netherlands              Frenkie de Jong  Midfielder\n",
            "27                Colombia             James RodrÃ­guez  Midfielder\n",
            "28                 Belgium              Kevin De Bruyne  Midfielder\n",
            "29                  Brazil                       Arthur  Midfielder\n",
            "30                   Spain                        Rodri  Midfielder\n",
            "31                 Nigeria               Victor Osimhen     Forward\n",
            "32                  France                 Thomas Lemar  Midfielder\n",
            "33                  Sweden  SwedenÂ Zlatan IbrahimoviÄ     Striker\n",
            "34                Portugal                  RÃºben Dias    Defender\n",
            "35                 Algeria                 Riyad Mahrez     Forward\n",
            "36                  Brazil                        KakÃ¡  Midfielder\n",
            "37                   Spain               Ãlvaro Morata     Striker\n",
            "38                  France              Aymeric Laporte    Defender\n",
            "39                Portugal                JoÃ£o Cancelo    Defender\n",
            "40                 Uruguay               Edinson Cavani     Striker\n",
            "41           United States            Christian Pulisic     Forward\n",
            "42               Argentina             Ãngel Di MarÃ­a  Midfielder\n",
            "43                   Gabon    Pierre-Emerick Aubameyang     Striker\n",
            "44                 England              Raheem Sterling     Forward\n",
            "45                  Brazil                      Alisson  Goalkeeper\n",
            "46                Portugal                   LuÃ­s Figo  Midfielder\n",
            "47                  Brazil                        Oscar  Midfielder\n",
            "48                  Serbia                  Luka JoviÄ     Striker\n",
            "49                 Morocco                Achraf Hakimi    Defender\n",
            "50                  Guinea                  Naby KeÃ¯ta  Midfielder\n",
            "51                  France              Tanguy Ndombele  Midfielder\n",
            "52                Colombia               Radamel Falcao     Striker\n",
            "53  Bosnia and Herzegovina              Miralem PjaniÄ  Midfielder\n"
          ]
        }
      ]
    },
    {
      "cell_type": "code",
      "source": [
        "# Merincikan kolom data\n",
        "data.columns"
      ],
      "metadata": {
        "colab": {
          "base_uri": "https://localhost:8080/"
        },
        "id": "2ef8qPPytHmJ",
        "outputId": "5be19c5d-6dc0-4a2c-c5b1-22efc81a7c1a"
      },
      "execution_count": 5,
      "outputs": [
        {
          "output_type": "execute_result",
          "data": {
            "text/plain": [
              "Index(['Origin', 'Player', 'Position'], dtype='object')"
            ]
          },
          "metadata": {},
          "execution_count": 5
        }
      ]
    },
    {
      "cell_type": "code",
      "source": [
        "data.shape"
      ],
      "metadata": {
        "colab": {
          "base_uri": "https://localhost:8080/"
        },
        "id": "fkG8s1JXtO8m",
        "outputId": "c13fdf50-0d27-4e4a-b996-0082241fa8ec"
      },
      "execution_count": 6,
      "outputs": [
        {
          "output_type": "execute_result",
          "data": {
            "text/plain": [
              "(54, 3)"
            ]
          },
          "metadata": {},
          "execution_count": 6
        }
      ]
    },
    {
      "cell_type": "code",
      "source": [
        "# Mengubah dataframe pandas menjadi list\n",
        "records = []\n",
        "for i in range(0, 53):\n",
        "  records.append([str(data.values[i,j]) for j in range(0,2)])"
      ],
      "metadata": {
        "id": "EvsLxFittTm1"
      },
      "execution_count": 9,
      "outputs": []
    },
    {
      "cell_type": "code",
      "source": [
        "# Membuat model apriori\n",
        "arule = apriori(records, min_support=0.01, min_confidence=0.07, min_lift=0.12, min_length=0.2)\n",
        "aresult = list(arule)"
      ],
      "metadata": {
        "id": "IwF93seytz5x"
      },
      "execution_count": 10,
      "outputs": []
    },
    {
      "cell_type": "code",
      "source": [
        "print(len(aresult))"
      ],
      "metadata": {
        "colab": {
          "base_uri": "https://localhost:8080/"
        },
        "id": "HHLlOzuZt42A",
        "outputId": "617a5544-ce16-4615-a078-6e994efab096"
      },
      "execution_count": 11,
      "outputs": [
        {
          "output_type": "stream",
          "name": "stdout",
          "text": [
            "55\n"
          ]
        }
      ]
    },
    {
      "cell_type": "code",
      "source": [
        "aresult"
      ],
      "metadata": {
        "colab": {
          "base_uri": "https://localhost:8080/"
        },
        "id": "eerLR-NWuDaW",
        "outputId": "4c482d06-3b6f-480c-fdbb-e64402ca4359"
      },
      "execution_count": 12,
      "outputs": [
        {
          "output_type": "execute_result",
          "data": {
            "text/plain": [
              "[RelationRecord(items=frozenset({'Belgium'}), support=0.07547169811320754, ordered_statistics=[OrderedStatistic(items_base=frozenset(), items_add=frozenset({'Belgium'}), confidence=0.07547169811320754, lift=1.0)]),\n",
              " RelationRecord(items=frozenset({'Brazil'}), support=0.11320754716981132, ordered_statistics=[OrderedStatistic(items_base=frozenset(), items_add=frozenset({'Brazil'}), confidence=0.11320754716981132, lift=1.0)]),\n",
              " RelationRecord(items=frozenset({'England'}), support=0.07547169811320754, ordered_statistics=[OrderedStatistic(items_base=frozenset(), items_add=frozenset({'England'}), confidence=0.07547169811320754, lift=1.0)]),\n",
              " RelationRecord(items=frozenset({'France'}), support=0.16981132075471697, ordered_statistics=[OrderedStatistic(items_base=frozenset(), items_add=frozenset({'France'}), confidence=0.16981132075471697, lift=1.0)]),\n",
              " RelationRecord(items=frozenset({'Portugal'}), support=0.11320754716981132, ordered_statistics=[OrderedStatistic(items_base=frozenset(), items_add=frozenset({'Portugal'}), confidence=0.11320754716981132, lift=1.0)]),\n",
              " RelationRecord(items=frozenset({'Achraf Hakimi', 'Morocco'}), support=0.018867924528301886, ordered_statistics=[OrderedStatistic(items_base=frozenset({'Achraf Hakimi'}), items_add=frozenset({'Morocco'}), confidence=1.0, lift=53.0), OrderedStatistic(items_base=frozenset({'Morocco'}), items_add=frozenset({'Achraf Hakimi'}), confidence=1.0, lift=53.0)]),\n",
              " RelationRecord(items=frozenset({'Algeria', 'Riyad Mahrez'}), support=0.018867924528301886, ordered_statistics=[OrderedStatistic(items_base=frozenset({'Algeria'}), items_add=frozenset({'Riyad Mahrez'}), confidence=1.0, lift=53.0), OrderedStatistic(items_base=frozenset({'Riyad Mahrez'}), items_add=frozenset({'Algeria'}), confidence=1.0, lift=53.0)]),\n",
              " RelationRecord(items=frozenset({'Brazil', 'Alisson'}), support=0.018867924528301886, ordered_statistics=[OrderedStatistic(items_base=frozenset({'Alisson'}), items_add=frozenset({'Brazil'}), confidence=1.0, lift=8.833333333333334), OrderedStatistic(items_base=frozenset({'Brazil'}), items_add=frozenset({'Alisson'}), confidence=0.16666666666666666, lift=8.833333333333334)]),\n",
              " RelationRecord(items=frozenset({'France', 'Antoine Griezmann'}), support=0.018867924528301886, ordered_statistics=[OrderedStatistic(items_base=frozenset({'Antoine Griezmann'}), items_add=frozenset({'France'}), confidence=1.0, lift=5.888888888888889), OrderedStatistic(items_base=frozenset({'France'}), items_add=frozenset({'Antoine Griezmann'}), confidence=0.11111111111111112, lift=5.888888888888889)]),\n",
              " RelationRecord(items=frozenset({'Argentina', 'Gonzalo HiguaÃ\\xadn'}), support=0.018867924528301886, ordered_statistics=[OrderedStatistic(items_base=frozenset({'Argentina'}), items_add=frozenset({'Gonzalo HiguaÃ\\xadn'}), confidence=0.3333333333333333, lift=17.666666666666668), OrderedStatistic(items_base=frozenset({'Gonzalo HiguaÃ\\xadn'}), items_add=frozenset({'Argentina'}), confidence=1.0, lift=17.666666666666668)]),\n",
              " RelationRecord(items=frozenset({'Ã\\x81ngel Di MarÃ\\xada', 'Argentina'}), support=0.03773584905660377, ordered_statistics=[OrderedStatistic(items_base=frozenset({'Argentina'}), items_add=frozenset({'Ã\\x81ngel Di MarÃ\\xada'}), confidence=0.6666666666666666, lift=17.666666666666668), OrderedStatistic(items_base=frozenset({'Ã\\x81ngel Di MarÃ\\xada'}), items_add=frozenset({'Argentina'}), confidence=1.0, lift=17.666666666666668)]),\n",
              " RelationRecord(items=frozenset({'Brazil', 'Arthur'}), support=0.018867924528301886, ordered_statistics=[OrderedStatistic(items_base=frozenset({'Arthur'}), items_add=frozenset({'Brazil'}), confidence=1.0, lift=8.833333333333334), OrderedStatistic(items_base=frozenset({'Brazil'}), items_add=frozenset({'Arthur'}), confidence=0.16666666666666666, lift=8.833333333333334)]),\n",
              " RelationRecord(items=frozenset({'Aymeric Laporte', 'France'}), support=0.018867924528301886, ordered_statistics=[OrderedStatistic(items_base=frozenset({'Aymeric Laporte'}), items_add=frozenset({'France'}), confidence=1.0, lift=5.888888888888889), OrderedStatistic(items_base=frozenset({'France'}), items_add=frozenset({'Aymeric Laporte'}), confidence=0.11111111111111112, lift=5.888888888888889)]),\n",
              " RelationRecord(items=frozenset({'Belgium', 'Eden Hazard'}), support=0.018867924528301886, ordered_statistics=[OrderedStatistic(items_base=frozenset({'Belgium'}), items_add=frozenset({'Eden Hazard'}), confidence=0.25, lift=13.25), OrderedStatistic(items_base=frozenset({'Eden Hazard'}), items_add=frozenset({'Belgium'}), confidence=1.0, lift=13.25)]),\n",
              " RelationRecord(items=frozenset({'Belgium', 'Kevin De Bruyne'}), support=0.018867924528301886, ordered_statistics=[OrderedStatistic(items_base=frozenset({'Belgium'}), items_add=frozenset({'Kevin De Bruyne'}), confidence=0.25, lift=13.25), OrderedStatistic(items_base=frozenset({'Kevin De Bruyne'}), items_add=frozenset({'Belgium'}), confidence=1.0, lift=13.25)]),\n",
              " RelationRecord(items=frozenset({'Belgium', 'Romelu Lukaku'}), support=0.03773584905660377, ordered_statistics=[OrderedStatistic(items_base=frozenset({'Belgium'}), items_add=frozenset({'Romelu Lukaku'}), confidence=0.5, lift=13.25), OrderedStatistic(items_base=frozenset({'Romelu Lukaku'}), items_add=frozenset({'Belgium'}), confidence=1.0, lift=13.25)]),\n",
              " RelationRecord(items=frozenset({'Brazil', 'KakÃ¡'}), support=0.018867924528301886, ordered_statistics=[OrderedStatistic(items_base=frozenset({'Brazil'}), items_add=frozenset({'KakÃ¡'}), confidence=0.16666666666666666, lift=8.833333333333334), OrderedStatistic(items_base=frozenset({'KakÃ¡'}), items_add=frozenset({'Brazil'}), confidence=1.0, lift=8.833333333333334)]),\n",
              " RelationRecord(items=frozenset({'Brazil', 'Neymar'}), support=0.018867924528301886, ordered_statistics=[OrderedStatistic(items_base=frozenset({'Brazil'}), items_add=frozenset({'Neymar'}), confidence=0.16666666666666666, lift=8.833333333333334), OrderedStatistic(items_base=frozenset({'Neymar'}), items_add=frozenset({'Brazil'}), confidence=1.0, lift=8.833333333333334)]),\n",
              " RelationRecord(items=frozenset({'Brazil', 'Oscar'}), support=0.018867924528301886, ordered_statistics=[OrderedStatistic(items_base=frozenset({'Brazil'}), items_add=frozenset({'Oscar'}), confidence=0.16666666666666666, lift=8.833333333333334), OrderedStatistic(items_base=frozenset({'Oscar'}), items_add=frozenset({'Brazil'}), confidence=1.0, lift=8.833333333333334)]),\n",
              " RelationRecord(items=frozenset({'Brazil', 'Philippe Coutinho'}), support=0.018867924528301886, ordered_statistics=[OrderedStatistic(items_base=frozenset({'Brazil'}), items_add=frozenset({'Philippe Coutinho'}), confidence=0.16666666666666666, lift=8.833333333333334), OrderedStatistic(items_base=frozenset({'Philippe Coutinho'}), items_add=frozenset({'Brazil'}), confidence=1.0, lift=8.833333333333334)]),\n",
              " RelationRecord(items=frozenset({'Christian Pulisic', 'United States'}), support=0.018867924528301886, ordered_statistics=[OrderedStatistic(items_base=frozenset({'Christian Pulisic'}), items_add=frozenset({'United States'}), confidence=1.0, lift=53.0), OrderedStatistic(items_base=frozenset({'United States'}), items_add=frozenset({'Christian Pulisic'}), confidence=1.0, lift=53.0)]),\n",
              " RelationRecord(items=frozenset({'James RodrÃ\\xadguez', 'Colombia'}), support=0.018867924528301886, ordered_statistics=[OrderedStatistic(items_base=frozenset({'Colombia'}), items_add=frozenset({'James RodrÃ\\xadguez'}), confidence=0.5, lift=26.5), OrderedStatistic(items_base=frozenset({'James RodrÃ\\xadguez'}), items_add=frozenset({'Colombia'}), confidence=1.0, lift=26.5)]),\n",
              " RelationRecord(items=frozenset({'Colombia', 'Radamel Falcao'}), support=0.018867924528301886, ordered_statistics=[OrderedStatistic(items_base=frozenset({'Colombia'}), items_add=frozenset({'Radamel Falcao'}), confidence=0.5, lift=26.5), OrderedStatistic(items_base=frozenset({'Radamel Falcao'}), items_add=frozenset({'Colombia'}), confidence=1.0, lift=26.5)]),\n",
              " RelationRecord(items=frozenset({'Cristiano Ronaldo', 'Portugal'}), support=0.03773584905660377, ordered_statistics=[OrderedStatistic(items_base=frozenset({'Cristiano Ronaldo'}), items_add=frozenset({'Portugal'}), confidence=1.0, lift=8.833333333333334), OrderedStatistic(items_base=frozenset({'Portugal'}), items_add=frozenset({'Cristiano Ronaldo'}), confidence=0.3333333333333333, lift=8.833333333333334)]),\n",
              " RelationRecord(items=frozenset({'Edinson Cavani', 'Uruguay'}), support=0.018867924528301886, ordered_statistics=[OrderedStatistic(items_base=frozenset({'Edinson Cavani'}), items_add=frozenset({'Uruguay'}), confidence=1.0, lift=26.5), OrderedStatistic(items_base=frozenset({'Uruguay'}), items_add=frozenset({'Edinson Cavani'}), confidence=0.5, lift=26.5)]),\n",
              " RelationRecord(items=frozenset({'England', 'Harry Maguire'}), support=0.018867924528301886, ordered_statistics=[OrderedStatistic(items_base=frozenset({'England'}), items_add=frozenset({'Harry Maguire'}), confidence=0.25, lift=13.25), OrderedStatistic(items_base=frozenset({'Harry Maguire'}), items_add=frozenset({'England'}), confidence=1.0, lift=13.25)]),\n",
              " RelationRecord(items=frozenset({'England', 'Jack Grealish'}), support=0.018867924528301886, ordered_statistics=[OrderedStatistic(items_base=frozenset({'England'}), items_add=frozenset({'Jack Grealish'}), confidence=0.25, lift=13.25), OrderedStatistic(items_base=frozenset({'Jack Grealish'}), items_add=frozenset({'England'}), confidence=1.0, lift=13.25)]),\n",
              " RelationRecord(items=frozenset({'England', 'Jadon Sancho'}), support=0.018867924528301886, ordered_statistics=[OrderedStatistic(items_base=frozenset({'England'}), items_add=frozenset({'Jadon Sancho'}), confidence=0.25, lift=13.25), OrderedStatistic(items_base=frozenset({'Jadon Sancho'}), items_add=frozenset({'England'}), confidence=1.0, lift=13.25)]),\n",
              " RelationRecord(items=frozenset({'Raheem Sterling', 'England'}), support=0.018867924528301886, ordered_statistics=[OrderedStatistic(items_base=frozenset({'England'}), items_add=frozenset({'Raheem Sterling'}), confidence=0.25, lift=13.25), OrderedStatistic(items_base=frozenset({'Raheem Sterling'}), items_add=frozenset({'England'}), confidence=1.0, lift=13.25)]),\n",
              " RelationRecord(items=frozenset({'Kylian MbappÃ©', 'France'}), support=0.018867924528301886, ordered_statistics=[OrderedStatistic(items_base=frozenset({'France'}), items_add=frozenset({'Kylian MbappÃ©'}), confidence=0.11111111111111112, lift=5.888888888888889), OrderedStatistic(items_base=frozenset({'Kylian MbappÃ©'}), items_add=frozenset({'France'}), confidence=1.0, lift=5.888888888888889)]),\n",
              " RelationRecord(items=frozenset({'Lucas Hernandez', 'France'}), support=0.018867924528301886, ordered_statistics=[OrderedStatistic(items_base=frozenset({'France'}), items_add=frozenset({'Lucas Hernandez'}), confidence=0.11111111111111112, lift=5.888888888888889), OrderedStatistic(items_base=frozenset({'Lucas Hernandez'}), items_add=frozenset({'France'}), confidence=1.0, lift=5.888888888888889)]),\n",
              " RelationRecord(items=frozenset({'France', 'Ousmane DembÃ©lÃ©'}), support=0.018867924528301886, ordered_statistics=[OrderedStatistic(items_base=frozenset({'France'}), items_add=frozenset({'Ousmane DembÃ©lÃ©'}), confidence=0.11111111111111112, lift=5.888888888888889), OrderedStatistic(items_base=frozenset({'Ousmane DembÃ©lÃ©'}), items_add=frozenset({'France'}), confidence=1.0, lift=5.888888888888889)]),\n",
              " RelationRecord(items=frozenset({'Paul Pogba', 'France'}), support=0.018867924528301886, ordered_statistics=[OrderedStatistic(items_base=frozenset({'France'}), items_add=frozenset({'Paul Pogba'}), confidence=0.11111111111111112, lift=5.888888888888889), OrderedStatistic(items_base=frozenset({'Paul Pogba'}), items_add=frozenset({'France'}), confidence=1.0, lift=5.888888888888889)]),\n",
              " RelationRecord(items=frozenset({'France', 'Tanguy Ndombele'}), support=0.018867924528301886, ordered_statistics=[OrderedStatistic(items_base=frozenset({'France'}), items_add=frozenset({'Tanguy Ndombele'}), confidence=0.11111111111111112, lift=5.888888888888889), OrderedStatistic(items_base=frozenset({'Tanguy Ndombele'}), items_add=frozenset({'France'}), confidence=1.0, lift=5.888888888888889)]),\n",
              " RelationRecord(items=frozenset({'France', 'Thomas Lemar'}), support=0.018867924528301886, ordered_statistics=[OrderedStatistic(items_base=frozenset({'France'}), items_add=frozenset({'Thomas Lemar'}), confidence=0.11111111111111112, lift=5.888888888888889), OrderedStatistic(items_base=frozenset({'Thomas Lemar'}), items_add=frozenset({'France'}), confidence=1.0, lift=5.888888888888889)]),\n",
              " RelationRecord(items=frozenset({'Zinedine Zidane', 'France'}), support=0.018867924528301886, ordered_statistics=[OrderedStatistic(items_base=frozenset({'France'}), items_add=frozenset({'Zinedine Zidane'}), confidence=0.11111111111111112, lift=5.888888888888889), OrderedStatistic(items_base=frozenset({'Zinedine Zidane'}), items_add=frozenset({'France'}), confidence=1.0, lift=5.888888888888889)]),\n",
              " RelationRecord(items=frozenset({'Frenkie de Jong', 'Netherlands'}), support=0.018867924528301886, ordered_statistics=[OrderedStatistic(items_base=frozenset({'Frenkie de Jong'}), items_add=frozenset({'Netherlands'}), confidence=1.0, lift=17.666666666666668), OrderedStatistic(items_base=frozenset({'Netherlands'}), items_add=frozenset({'Frenkie de Jong'}), confidence=0.3333333333333333, lift=17.666666666666668)]),\n",
              " RelationRecord(items=frozenset({'Gabon', 'Pierre-Emerick Aubameyang'}), support=0.018867924528301886, ordered_statistics=[OrderedStatistic(items_base=frozenset({'Gabon'}), items_add=frozenset({'Pierre-Emerick Aubameyang'}), confidence=1.0, lift=53.0), OrderedStatistic(items_base=frozenset({'Pierre-Emerick Aubameyang'}), items_add=frozenset({'Gabon'}), confidence=1.0, lift=53.0)]),\n",
              " RelationRecord(items=frozenset({'Gareth Bale', 'Wakes'}), support=0.018867924528301886, ordered_statistics=[OrderedStatistic(items_base=frozenset({'Gareth Bale'}), items_add=frozenset({'Wakes'}), confidence=1.0, lift=53.0), OrderedStatistic(items_base=frozenset({'Wakes'}), items_add=frozenset({'Gareth Bale'}), confidence=1.0, lift=53.0)]),\n",
              " RelationRecord(items=frozenset({'Germany', 'Kai Havertz'}), support=0.018867924528301886, ordered_statistics=[OrderedStatistic(items_base=frozenset({'Germany'}), items_add=frozenset({'Kai Havertz'}), confidence=1.0, lift=53.0), OrderedStatistic(items_base=frozenset({'Kai Havertz'}), items_add=frozenset({'Germany'}), confidence=1.0, lift=53.0)]),\n",
              " RelationRecord(items=frozenset({'Guinea', 'Naby KeÃ¯ta'}), support=0.018867924528301886, ordered_statistics=[OrderedStatistic(items_base=frozenset({'Guinea'}), items_add=frozenset({'Naby KeÃ¯ta'}), confidence=1.0, lift=53.0), OrderedStatistic(items_base=frozenset({'Naby KeÃ¯ta'}), items_add=frozenset({'Guinea'}), confidence=1.0, lift=53.0)]),\n",
              " RelationRecord(items=frozenset({'Ivory Coast', 'Nicolas PÃ©pÃ©'}), support=0.018867924528301886, ordered_statistics=[OrderedStatistic(items_base=frozenset({'Ivory Coast'}), items_add=frozenset({'Nicolas PÃ©pÃ©'}), confidence=1.0, lift=53.0), OrderedStatistic(items_base=frozenset({'Nicolas PÃ©pÃ©'}), items_add=frozenset({'Ivory Coast'}), confidence=1.0, lift=53.0)]),\n",
              " RelationRecord(items=frozenset({'Portugal', 'JoÃ£o Cancelo'}), support=0.018867924528301886, ordered_statistics=[OrderedStatistic(items_base=frozenset({'JoÃ£o Cancelo'}), items_add=frozenset({'Portugal'}), confidence=1.0, lift=8.833333333333334), OrderedStatistic(items_base=frozenset({'Portugal'}), items_add=frozenset({'JoÃ£o Cancelo'}), confidence=0.16666666666666666, lift=8.833333333333334)]),\n",
              " RelationRecord(items=frozenset({'Portugal', 'JoÃ£o FÃ©lix'}), support=0.018867924528301886, ordered_statistics=[OrderedStatistic(items_base=frozenset({'JoÃ£o FÃ©lix'}), items_add=frozenset({'Portugal'}), confidence=1.0, lift=8.833333333333334), OrderedStatistic(items_base=frozenset({'Portugal'}), items_add=frozenset({'JoÃ£o FÃ©lix'}), confidence=0.16666666666666666, lift=8.833333333333334)]),\n",
              " RelationRecord(items=frozenset({'Spain', 'Kepa Arrizabalaga'}), support=0.018867924528301886, ordered_statistics=[OrderedStatistic(items_base=frozenset({'Kepa Arrizabalaga'}), items_add=frozenset({'Spain'}), confidence=1.0, lift=17.666666666666668), OrderedStatistic(items_base=frozenset({'Spain'}), items_add=frozenset({'Kepa Arrizabalaga'}), confidence=0.3333333333333333, lift=17.666666666666668)]),\n",
              " RelationRecord(items=frozenset({'Luis SuÃ¡rez', 'Uruguay'}), support=0.018867924528301886, ordered_statistics=[OrderedStatistic(items_base=frozenset({'Luis SuÃ¡rez'}), items_add=frozenset({'Uruguay'}), confidence=1.0, lift=26.5), OrderedStatistic(items_base=frozenset({'Uruguay'}), items_add=frozenset({'Luis SuÃ¡rez'}), confidence=0.5, lift=26.5)]),\n",
              " RelationRecord(items=frozenset({'Serbia', 'Luka JoviÄ\\x87'}), support=0.018867924528301886, ordered_statistics=[OrderedStatistic(items_base=frozenset({'Luka JoviÄ\\x87'}), items_add=frozenset({'Serbia'}), confidence=1.0, lift=53.0), OrderedStatistic(items_base=frozenset({'Serbia'}), items_add=frozenset({'Luka JoviÄ\\x87'}), confidence=1.0, lift=53.0)]),\n",
              " RelationRecord(items=frozenset({'Portugal', 'LuÃ\\xads Figo'}), support=0.018867924528301886, ordered_statistics=[OrderedStatistic(items_base=frozenset({'LuÃ\\xads Figo'}), items_add=frozenset({'Portugal'}), confidence=1.0, lift=8.833333333333334), OrderedStatistic(items_base=frozenset({'Portugal'}), items_add=frozenset({'LuÃ\\xads Figo'}), confidence=0.16666666666666666, lift=8.833333333333334)]),\n",
              " RelationRecord(items=frozenset({'Matthijs de Ligt', 'Netherlands'}), support=0.018867924528301886, ordered_statistics=[OrderedStatistic(items_base=frozenset({'Matthijs de Ligt'}), items_add=frozenset({'Netherlands'}), confidence=1.0, lift=17.666666666666668), OrderedStatistic(items_base=frozenset({'Netherlands'}), items_add=frozenset({'Matthijs de Ligt'}), confidence=0.3333333333333333, lift=17.666666666666668)]),\n",
              " RelationRecord(items=frozenset({'Netherlands', 'Virgil van Dijk'}), support=0.018867924528301886, ordered_statistics=[OrderedStatistic(items_base=frozenset({'Netherlands'}), items_add=frozenset({'Virgil van Dijk'}), confidence=0.3333333333333333, lift=17.666666666666668), OrderedStatistic(items_base=frozenset({'Virgil van Dijk'}), items_add=frozenset({'Netherlands'}), confidence=1.0, lift=17.666666666666668)]),\n",
              " RelationRecord(items=frozenset({'Victor Osimhen', 'Nigeria'}), support=0.018867924528301886, ordered_statistics=[OrderedStatistic(items_base=frozenset({'Nigeria'}), items_add=frozenset({'Victor Osimhen'}), confidence=1.0, lift=53.0), OrderedStatistic(items_base=frozenset({'Victor Osimhen'}), items_add=frozenset({'Nigeria'}), confidence=1.0, lift=53.0)]),\n",
              " RelationRecord(items=frozenset({'Portugal', 'RÃºben Dias'}), support=0.018867924528301886, ordered_statistics=[OrderedStatistic(items_base=frozenset({'Portugal'}), items_add=frozenset({'RÃºben Dias'}), confidence=0.16666666666666666, lift=8.833333333333334), OrderedStatistic(items_base=frozenset({'RÃºben Dias'}), items_add=frozenset({'Portugal'}), confidence=1.0, lift=8.833333333333334)]),\n",
              " RelationRecord(items=frozenset({'Rodri', 'Spain'}), support=0.018867924528301886, ordered_statistics=[OrderedStatistic(items_base=frozenset({'Rodri'}), items_add=frozenset({'Spain'}), confidence=1.0, lift=17.666666666666668), OrderedStatistic(items_base=frozenset({'Spain'}), items_add=frozenset({'Rodri'}), confidence=0.3333333333333333, lift=17.666666666666668)]),\n",
              " RelationRecord(items=frozenset({'Ã\\x81lvaro Morata', 'Spain'}), support=0.018867924528301886, ordered_statistics=[OrderedStatistic(items_base=frozenset({'Spain'}), items_add=frozenset({'Ã\\x81lvaro Morata'}), confidence=0.3333333333333333, lift=17.666666666666668), OrderedStatistic(items_base=frozenset({'Ã\\x81lvaro Morata'}), items_add=frozenset({'Spain'}), confidence=1.0, lift=17.666666666666668)]),\n",
              " RelationRecord(items=frozenset({'SwedenÂ\\xa0Zlatan IbrahimoviÄ\\x87', 'Sweden'}), support=0.018867924528301886, ordered_statistics=[OrderedStatistic(items_base=frozenset({'Sweden'}), items_add=frozenset({'SwedenÂ\\xa0Zlatan IbrahimoviÄ\\x87'}), confidence=1.0, lift=53.0), OrderedStatistic(items_base=frozenset({'SwedenÂ\\xa0Zlatan IbrahimoviÄ\\x87'}), items_add=frozenset({'Sweden'}), confidence=1.0, lift=53.0)])]"
            ]
          },
          "metadata": {},
          "execution_count": 12
        }
      ]
    },
    {
      "cell_type": "code",
      "source": [
        "df_results = pd.DataFrame(aresult)"
      ],
      "metadata": {
        "id": "MJz1tvKCuHo-"
      },
      "execution_count": 13,
      "outputs": []
    },
    {
      "cell_type": "code",
      "source": [
        "df_results.head()"
      ],
      "metadata": {
        "colab": {
          "base_uri": "https://localhost:8080/",
          "height": 206
        },
        "id": "5QxoSBPbuLGW",
        "outputId": "c9f76358-10e4-4504-a187-859851133c9a"
      },
      "execution_count": 14,
      "outputs": [
        {
          "output_type": "execute_result",
          "data": {
            "text/plain": [
              "        items   support                            ordered_statistics\n",
              "0   (Belgium)  0.075472   [((), (Belgium), 0.07547169811320754, 1.0)]\n",
              "1    (Brazil)  0.113208    [((), (Brazil), 0.11320754716981132, 1.0)]\n",
              "2   (England)  0.075472   [((), (England), 0.07547169811320754, 1.0)]\n",
              "3    (France)  0.169811    [((), (France), 0.16981132075471697, 1.0)]\n",
              "4  (Portugal)  0.113208  [((), (Portugal), 0.11320754716981132, 1.0)]"
            ],
            "text/html": [
              "\n",
              "  <div id=\"df-174eb165-7d85-4113-a740-b797b8ebd9fa\">\n",
              "    <div class=\"colab-df-container\">\n",
              "      <div>\n",
              "<style scoped>\n",
              "    .dataframe tbody tr th:only-of-type {\n",
              "        vertical-align: middle;\n",
              "    }\n",
              "\n",
              "    .dataframe tbody tr th {\n",
              "        vertical-align: top;\n",
              "    }\n",
              "\n",
              "    .dataframe thead th {\n",
              "        text-align: right;\n",
              "    }\n",
              "</style>\n",
              "<table border=\"1\" class=\"dataframe\">\n",
              "  <thead>\n",
              "    <tr style=\"text-align: right;\">\n",
              "      <th></th>\n",
              "      <th>items</th>\n",
              "      <th>support</th>\n",
              "      <th>ordered_statistics</th>\n",
              "    </tr>\n",
              "  </thead>\n",
              "  <tbody>\n",
              "    <tr>\n",
              "      <th>0</th>\n",
              "      <td>(Belgium)</td>\n",
              "      <td>0.075472</td>\n",
              "      <td>[((), (Belgium), 0.07547169811320754, 1.0)]</td>\n",
              "    </tr>\n",
              "    <tr>\n",
              "      <th>1</th>\n",
              "      <td>(Brazil)</td>\n",
              "      <td>0.113208</td>\n",
              "      <td>[((), (Brazil), 0.11320754716981132, 1.0)]</td>\n",
              "    </tr>\n",
              "    <tr>\n",
              "      <th>2</th>\n",
              "      <td>(England)</td>\n",
              "      <td>0.075472</td>\n",
              "      <td>[((), (England), 0.07547169811320754, 1.0)]</td>\n",
              "    </tr>\n",
              "    <tr>\n",
              "      <th>3</th>\n",
              "      <td>(France)</td>\n",
              "      <td>0.169811</td>\n",
              "      <td>[((), (France), 0.16981132075471697, 1.0)]</td>\n",
              "    </tr>\n",
              "    <tr>\n",
              "      <th>4</th>\n",
              "      <td>(Portugal)</td>\n",
              "      <td>0.113208</td>\n",
              "      <td>[((), (Portugal), 0.11320754716981132, 1.0)]</td>\n",
              "    </tr>\n",
              "  </tbody>\n",
              "</table>\n",
              "</div>\n",
              "      <button class=\"colab-df-convert\" onclick=\"convertToInteractive('df-174eb165-7d85-4113-a740-b797b8ebd9fa')\"\n",
              "              title=\"Convert this dataframe to an interactive table.\"\n",
              "              style=\"display:none;\">\n",
              "        \n",
              "  <svg xmlns=\"http://www.w3.org/2000/svg\" height=\"24px\"viewBox=\"0 0 24 24\"\n",
              "       width=\"24px\">\n",
              "    <path d=\"M0 0h24v24H0V0z\" fill=\"none\"/>\n",
              "    <path d=\"M18.56 5.44l.94 2.06.94-2.06 2.06-.94-2.06-.94-.94-2.06-.94 2.06-2.06.94zm-11 1L8.5 8.5l.94-2.06 2.06-.94-2.06-.94L8.5 2.5l-.94 2.06-2.06.94zm10 10l.94 2.06.94-2.06 2.06-.94-2.06-.94-.94-2.06-.94 2.06-2.06.94z\"/><path d=\"M17.41 7.96l-1.37-1.37c-.4-.4-.92-.59-1.43-.59-.52 0-1.04.2-1.43.59L10.3 9.45l-7.72 7.72c-.78.78-.78 2.05 0 2.83L4 21.41c.39.39.9.59 1.41.59.51 0 1.02-.2 1.41-.59l7.78-7.78 2.81-2.81c.8-.78.8-2.07 0-2.86zM5.41 20L4 18.59l7.72-7.72 1.47 1.35L5.41 20z\"/>\n",
              "  </svg>\n",
              "      </button>\n",
              "      \n",
              "  <style>\n",
              "    .colab-df-container {\n",
              "      display:flex;\n",
              "      flex-wrap:wrap;\n",
              "      gap: 12px;\n",
              "    }\n",
              "\n",
              "    .colab-df-convert {\n",
              "      background-color: #E8F0FE;\n",
              "      border: none;\n",
              "      border-radius: 50%;\n",
              "      cursor: pointer;\n",
              "      display: none;\n",
              "      fill: #1967D2;\n",
              "      height: 32px;\n",
              "      padding: 0 0 0 0;\n",
              "      width: 32px;\n",
              "    }\n",
              "\n",
              "    .colab-df-convert:hover {\n",
              "      background-color: #E2EBFA;\n",
              "      box-shadow: 0px 1px 2px rgba(60, 64, 67, 0.3), 0px 1px 3px 1px rgba(60, 64, 67, 0.15);\n",
              "      fill: #174EA6;\n",
              "    }\n",
              "\n",
              "    [theme=dark] .colab-df-convert {\n",
              "      background-color: #3B4455;\n",
              "      fill: #D2E3FC;\n",
              "    }\n",
              "\n",
              "    [theme=dark] .colab-df-convert:hover {\n",
              "      background-color: #434B5C;\n",
              "      box-shadow: 0px 1px 3px 1px rgba(0, 0, 0, 0.15);\n",
              "      filter: drop-shadow(0px 1px 2px rgba(0, 0, 0, 0.3));\n",
              "      fill: #FFFFFF;\n",
              "    }\n",
              "  </style>\n",
              "\n",
              "      <script>\n",
              "        const buttonEl =\n",
              "          document.querySelector('#df-174eb165-7d85-4113-a740-b797b8ebd9fa button.colab-df-convert');\n",
              "        buttonEl.style.display =\n",
              "          google.colab.kernel.accessAllowed ? 'block' : 'none';\n",
              "\n",
              "        async function convertToInteractive(key) {\n",
              "          const element = document.querySelector('#df-174eb165-7d85-4113-a740-b797b8ebd9fa');\n",
              "          const dataTable =\n",
              "            await google.colab.kernel.invokeFunction('convertToInteractive',\n",
              "                                                     [key], {});\n",
              "          if (!dataTable) return;\n",
              "\n",
              "          const docLinkHtml = 'Like what you see? Visit the ' +\n",
              "            '<a target=\"_blank\" href=https://colab.research.google.com/notebooks/data_table.ipynb>data table notebook</a>'\n",
              "            + ' to learn more about interactive tables.';\n",
              "          element.innerHTML = '';\n",
              "          dataTable['output_type'] = 'display_data';\n",
              "          await google.colab.output.renderOutput(dataTable, element);\n",
              "          const docLink = document.createElement('div');\n",
              "          docLink.innerHTML = docLinkHtml;\n",
              "          element.appendChild(docLink);\n",
              "        }\n",
              "      </script>\n",
              "    </div>\n",
              "  </div>\n",
              "  "
            ]
          },
          "metadata": {},
          "execution_count": 14
        }
      ]
    }
  ]
}