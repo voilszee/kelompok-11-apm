{
  "metadata": {
    "kernelspec": {
      "display_name": "Python 3",
      "language": "python",
      "name": "python3"
    },
    "language_info": {
      "name": "python",
      "version": "3.6.6",
      "mimetype": "text/x-python",
      "codemirror_mode": {
        "name": "ipython",
        "version": 3
      },
      "pygments_lexer": "ipython3",
      "nbconvert_exporter": "python",
      "file_extension": ".py"
    },
    "colab": {
      "name": "Decision Tree : Algoritma C4.5.ipynb",
      "provenance": [],
      "include_colab_link": true
    }
  },
  "nbformat_minor": 0,
  "nbformat": 4,
  "cells": [
    {
      "cell_type": "markdown",
      "metadata": {
        "id": "view-in-github",
        "colab_type": "text"
      },
      "source": [
        "<a href=\"https://colab.research.google.com/github/voilszee/kelompok-11-apm/blob/main/Algoritma_C4_5(Decision%20Tree).ipynb\" target=\"_parent\"><img src=\"https://colab.research.google.com/assets/colab-badge.svg\" alt=\"Open In Colab\"/></a>"
      ]
    },
    {
      "cell_type": "code",
      "source": [
        "\n",
        "import numpy as np\n",
        "import pandas as pd\n",
        "import matplotlib.pyplot as plt\n",
        "import sklearn\n",
        "from sklearn.model_selection import train_test_split\n",
        "from sklearn import tree\n",
        "from sklearn.metrics import confusion_matrix\n",
        "from sklearn.metrics import classification_report\n",
        "import graphviz\n",
        "\n",
        "\n",
        "import os\n",
        "print(os.listdir(\"C:\\Users\\ASUS\\Desktop\\input\"))\n",
        "\n",
        "df = pd.read_csv(\"C:\\Users\\ASUS\\Desktop\\input\\diabetes.csv\")\n",
        "df = df.drop('SkinThickness', 'columns')\n",
        "df = df.dropna()\n",
        "\n",
        "df = df[(df[['Glucose','BloodPressure','Insulin', 'BMI','DiabetesPedigreeFunction','Age']] != 0).all(axis=1)]\n",
        "\n",
        "split_data = train_test_split(df, test_size=.30)\n",
        "\n",
        "train_data = split_data[0]\n",
        "test_data = split_data[1]\n",
        "\n",
        "outcome_train = train_data.Outcome.tolist()\n",
        "outcome_test = test_data.Outcome.tolist()\n",
        "\n",
        "train_data_remove = train_data.drop(columns = \"Outcome\")\n",
        "test_data_remove = test_data.drop(columns = \"Outcome\")\n"
      ],
      "metadata": {
        "_uuid": "8f2839f25d086af736a60e9eeb907d3b93b6e0e5",
        "_cell_guid": "b1076dfc-b9ad-4769-8c92-a6c4dae69d19",
        "trusted": true,
        "id": "HFJf4zlCNS08"
      },
      "execution_count": null,
      "outputs": []
    },
    {
      "cell_type": "code",
      "source": [
        "clf2 = sklearn.tree.DecisionTreeClassifier()\n",
        "\n",
        "clf2.fit(train_data_remove, outcome_train)\n",
        "\n",
        "dot_data = tree.export_graphviz(clf2, out_file=None)\n",
        "graph = graphviz.Source(dot_data)\n",
        "graph.render(\"Diabetes\")\n",
        "\n",
        "graph"
      ],
      "metadata": {
        "_uuid": "774cf7db8cf0f0c5a74a435cae1186a7705d33b4",
        "trusted": true,
        "id": "KCt4p74ANS1C"
      },
      "execution_count": null,
      "outputs": []
    },
    {
      "cell_type": "code",
      "source": [
        "test_array2 = clf2.predict(test_data_remove).tolist()\n",
        "CTestAccuracy = sklearn.metrics.accuracy_score(outcome_test, test_array2)\n",
        "\n",
        "print('C4.5 Testing accuracy: ',CTestAccuracy)\n"
      ],
      "metadata": {
        "_uuid": "113114bcb16ca889eadcd9a19332b3dfdd04c971",
        "trusted": true,
        "id": "3vv7rfoSNS1D"
      },
      "execution_count": null,
      "outputs": []
    },
    {
      "cell_type": "code",
      "source": [
        "train_array2 = clf2.predict(train_data_remove).tolist()\n",
        "\n",
        "CTrainAccuracy = sklearn.metrics.accuracy_score(outcome_train, train_array2)\n",
        "\n",
        "print('C4.5 Training accuracy: ', CTrainAccuracy)"
      ],
      "metadata": {
        "_uuid": "82c5ca7cda5a854e8b0f596e7ab0a76371adff5a",
        "trusted": true,
        "id": "_-FnKVz-NS1E"
      },
      "execution_count": null,
      "outputs": []
    },
    {
      "cell_type": "code",
      "source": [
        "prediction_train2 = clf2.predict(train_data_remove).tolist()\n",
        "\n",
        "print(\"TESTING DATA\")\n",
        "print('Confusion Matrix with Testing Data with C4.5 Algorithm: ')\n",
        "print(confusion_matrix(outcome_train, prediction_train2))\n",
        "print()\n",
        "print('Classification Report C4.5 Algorithm:')\n",
        "print(classification_report(outcome_train, prediction_train2))\n",
        "print()\n",
        "print()\n",
        "print(\"TRAINING DATA\")\n",
        "print('Confusion Matrix with Training Data with C4.5 Algorithm:')\n",
        "print(confusion_matrix(outcome_train, prediction_train2))\n",
        "print()\n",
        "print('Classification Report C4.5 Algorithm:')\n",
        "print(classification_report(outcome_train, prediction_train2))\n"
      ],
      "metadata": {
        "_uuid": "e917fee58e19b255f29e2eadc7ec8e83d24c276b",
        "trusted": true,
        "id": "60ic78fsNS1G"
      },
      "execution_count": null,
      "outputs": []
    }
  ]
}