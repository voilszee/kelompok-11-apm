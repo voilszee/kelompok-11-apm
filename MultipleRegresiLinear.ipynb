{
  "nbformat": 4,
  "nbformat_minor": 0,
  "metadata": {
    "colab": {
      "name": "MultipleRegresiLinear.ipynb",
      "provenance": [],
      "collapsed_sections": [],
      "authorship_tag": "ABX9TyNFc9YKOTHvMRUk9UxabHyz",
      "include_colab_link": true
    },
    "kernelspec": {
      "name": "python3",
      "display_name": "Python 3"
    },
    "language_info": {
      "name": "python"
    }
  },
  "cells": [
    {
      "cell_type": "markdown",
      "metadata": {
        "id": "view-in-github",
        "colab_type": "text"
      },
      "source": [
        "<a href=\"https://colab.research.google.com/github/voilszee/kelompok-11-apm/blob/main/MultipleRegresiLinear.ipynb\" target=\"_parent\"><img src=\"https://colab.research.google.com/assets/colab-badge.svg\" alt=\"Open In Colab\"/></a>"
      ]
    },
    {
      "cell_type": "code",
      "execution_count": null,
      "metadata": {
        "id": "VtnxQUV26W_E"
      },
      "outputs": [],
      "source": [
        "import pandas as pd\n",
        "import numpy as np\n",
        "import matplotlib.pyplot as plt\n",
        "import matplotlib as mpl"
      ]
    },
    {
      "cell_type": "code",
      "source": [
        "df = pd.read_csv('C:\\Users\\ASUS\\Desktop\\drinks.csv')\n",
        "df.head()"
      ],
      "metadata": {
        "id": "6Jhk54pvRUrX"
      },
      "execution_count": null,
      "outputs": []
    },
    {
      "cell_type": "code",
      "source": [
        "from sklearn.linear_model import LinearRegression\n",
        "from sklearn.model_selection import train_test_split\n",
        "z = df[['wine_servings','beer_servings','spirit_servings']]\n",
        "y = df['total_litres_of_pure_alcohol']"
      ],
      "metadata": {
        "id": "p6SmYwlWRl2y"
      },
      "execution_count": null,
      "outputs": []
    },
    {
      "cell_type": "code",
      "source": [
        "z_train, z_test, b_train, b_test = train_test_split(z, y, test_size=0.3, random_state=0)\n",
        "print(z_train.shape, b_train.shape)\n",
        "print(z_test.shape, b_test.shape)"
      ],
      "metadata": {
        "id": "tnjihHIsUFQO"
      },
      "execution_count": null,
      "outputs": []
    },
    {
      "cell_type": "code",
      "source": [
        "lm2 = LinearRegression()\n",
        "model2 = lm2.fit(z_train, b_train)"
      ],
      "metadata": {
        "id": "Wuk008YKUlQS"
      },
      "execution_count": null,
      "outputs": []
    },
    {
      "cell_type": "code",
      "source": [
        "lm2.intercept_"
      ],
      "metadata": {
        "id": "BbbouyS_U5t9"
      },
      "execution_count": null,
      "outputs": []
    },
    {
      "cell_type": "code",
      "source": [
        "lm2.coef_"
      ],
      "metadata": {
        "id": "A01RnzQGU9T-"
      },
      "execution_count": null,
      "outputs": []
    },
    {
      "cell_type": "code",
      "source": [
        "a = lm2.predict(z_test)[0:5]\n",
        "a"
      ],
      "metadata": {
        "id": "HP8I9-D2VAiw"
      },
      "execution_count": null,
      "outputs": []
    },
    {
      "cell_type": "code",
      "source": [
        "lm2.score(z_test, b_test)"
      ],
      "metadata": {
        "id": "KKC44Ap2VLZh"
      },
      "execution_count": null,
      "outputs": []
    },
    {
      "cell_type": "code",
      "source": [
        "ax1 = sns.distplot(df['total_litres_of_pure_alcohol'], hist=False, color='r', label='Actual Value')\n",
        "\n",
        "sns.displot(a, hist=False, color='b', label='Fitted Values', ax=ax1)"
      ],
      "metadata": {
        "id": "FkJajUtsVSuP"
      },
      "execution_count": null,
      "outputs": []
    }
  ]
}