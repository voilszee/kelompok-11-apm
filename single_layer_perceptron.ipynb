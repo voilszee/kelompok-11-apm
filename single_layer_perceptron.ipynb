{
  "cells": [
    {
      "cell_type": "markdown",
      "metadata": {
        "id": "view-in-github",
        "colab_type": "text"
      },
      "source": [
        "<a href=\"https://colab.research.google.com/github/voilszee/kelompok-11-apm/blob/main/single_layer_perceptron.ipynb\" target=\"_parent\"><img src=\"https://colab.research.google.com/assets/colab-badge.svg\" alt=\"Open In Colab\"/></a>"
      ]
    },
    {
      "metadata": {
        "_cell_guid": "79c7e3d0-c299-4dcb-8224-4455121ee9b0",
        "_uuid": "d629ff2d2480ee46fbb7e2d37f6b5fab8052498a",
        "trusted": true,
        "collapsed": true,
        "id": "smALUvXkUigv"
      },
      "cell_type": "code",
      "source": [
        "import tensorflow as tf\n",
        "import pandas as pd\n",
        "import numpy as np\n",
        "import matplotlib.pyplot as plt\n",
        "import seaborn as sns\n",
        "from sklearn.model_selection import train_test_split\n",
        "from sklearn.preprocessing import MinMaxScaler, Normalizer\n",
        "from sklearn.decomposition import PCA as sklearnPCA\n",
        "\n",
        "# Supress unnecessary warnings so that presentation looks clean\n",
        "import warnings\n",
        "warnings.filterwarnings(\"ignore\")"
      ],
      "execution_count": null,
      "outputs": []
    },
    {
      "metadata": {
        "_cell_guid": "3f44bd61-891a-4907-9ad4-4b24e2a476de",
        "_uuid": "226c6831972f96b5d8b50b66a6ff517c175b3e3b",
        "trusted": true,
        "id": "lMttH_C_Uig0"
      },
      "cell_type": "code",
      "source": [
        "wbcd = pd.read_csv(\"../input/breast-cancer-wisconsin-data\")\n",
        "wbcd.head()"
      ],
      "execution_count": null,
      "outputs": []
    },
    {
      "metadata": {
        "trusted": true,
        "_uuid": "05f38efc1164eb33724d102575f60c0a1b5446d6",
        "collapsed": true,
        "id": "LdNXLk8iUig1"
      },
      "cell_type": "code",
      "source": [
        "wbcd = wbcd.replace('?', 0)"
      ],
      "execution_count": null,
      "outputs": []
    },
    {
      "metadata": {
        "_cell_guid": "4478f2f7-c82d-4b1d-8cc3-3a3d300c66f1",
        "_uuid": "5904e176a7d70ca730bafc6eacbe2d8e4ab693ac",
        "trusted": true,
        "collapsed": true,
        "id": "iAzPd2pXUig2"
      },
      "cell_type": "code",
      "source": [
        "print(\"This WBCD dataset is consisted of\",wbcd.shape)"
      ],
      "execution_count": null,
      "outputs": []
    },
    {
      "metadata": {
        "_cell_guid": "52ad3062-d000-49c5-94a7-4ad80c3a25de",
        "_uuid": "a8d564395cfb9b4b6c2758d37546a2d4074906f5",
        "trusted": true,
        "collapsed": true,
        "id": "4eU3kz91Uig5"
      },
      "cell_type": "code",
      "source": [
        "sns.countplot(wbcd['class'],label=\"Count\")"
      ],
      "execution_count": null,
      "outputs": []
    },
    {
      "metadata": {
        "_cell_guid": "010c6214-6da0-4a5c-9d0f-f5bf6a992790",
        "_uuid": "c7aa69db4e553eab98f8be59cbf1731746164b94",
        "trusted": true,
        "collapsed": true,
        "id": "8j7lLYAzUihA"
      },
      "cell_type": "code",
      "source": [
        "train,test = train_test_split(wbcd, test_size=0.3, random_state=42)\n",
        "print(\"Training Data :\",train.shape)\n",
        "print(\"Testing Data :\",test.shape)"
      ],
      "execution_count": null,
      "outputs": []
    },
    {
      "metadata": {
        "_cell_guid": "6c4466ae-c775-4eaa-99e2-ae81a6f55f89",
        "_uuid": "d6d0f79538cf52db3322f311242d85447d7e0646",
        "trusted": true,
        "collapsed": true,
        "id": "V-AU0qYlUihB"
      },
      "cell_type": "code",
      "source": [
        "train_data = train\n",
        "test_data = test\n",
        "\n",
        "\n",
        "print(\"Training Data :\",train_data.shape)\n",
        "print(\"Testing Data :\",test_data.shape)"
      ],
      "execution_count": null,
      "outputs": []
    },
    {
      "metadata": {
        "trusted": true,
        "_uuid": "372a53bd49a80dd43b357bdac077eff003f1122c",
        "collapsed": true,
        "id": "eBSd_zICUihC"
      },
      "cell_type": "code",
      "source": [
        "train.iloc[:,0:-1].head()"
      ],
      "execution_count": null,
      "outputs": []
    },
    {
      "metadata": {
        "trusted": true,
        "_uuid": "961687726398f35f502485cbb0cb55a87738396a",
        "collapsed": true,
        "id": "iGktRDmsUihC"
      },
      "cell_type": "code",
      "source": [
        "train_x = train_data.iloc[:,0:-1]\n",
        "train_x = MinMaxScaler().fit_transform(train_x)\n",
        "print(\"Training Data :\", train_x.shape)\n",
        "\n",
        "# Testing Data\n",
        "test_x = test_data.iloc[:,0:-1]\n",
        "test_x = MinMaxScaler().fit_transform(test_x)\n",
        "print(\"Testing Data :\", test_x.shape)\n"
      ],
      "execution_count": null,
      "outputs": []
    },
    {
      "metadata": {
        "trusted": true,
        "_uuid": "2488ad9c8b12b4042e9c50fef0698fe6408a2170",
        "collapsed": true,
        "id": "OK-T6NgXUihD"
      },
      "cell_type": "code",
      "source": [
        "train_y = train_data.iloc[:,-1:]\n",
        "train_y[train_y== 2] = 0\n",
        "train_y[train_y== 4 ] = 1\n",
        "print(\"Training Data :\", train_y.shape)\n",
        "\n",
        "# Testing Data\n",
        "test_y = test_data.iloc[:,-1:]\n",
        "test_y[test_y== 2] = 0\n",
        "test_y[test_y==4 ] = 1\n",
        "print(\"Testing Data :\", test_y.shape)"
      ],
      "execution_count": null,
      "outputs": []
    },
    {
      "metadata": {
        "_cell_guid": "b2f628ba-b54f-4606-88b3-a94e8d04abfc",
        "_uuid": "203de4b9aea972e31c4887e81b69011e978b4ae2",
        "trusted": true,
        "collapsed": true,
        "id": "17IEvZn4UihH"
      },
      "cell_type": "code",
      "source": [
        "X = tf.placeholder(tf.float32, [None,9])\n",
        "Y = tf.placeholder(tf.float32, [None, 1])"
      ],
      "execution_count": null,
      "outputs": []
    },
    {
      "metadata": {
        "_cell_guid": "d1f84757-a576-4e5b-8906-bce6dba3c84c",
        "_uuid": "e8791b6931c8197198f85a99f20e777697774906",
        "trusted": true,
        "collapsed": true,
        "id": "JsBJ7oRxUihJ"
      },
      "cell_type": "code",
      "source": [
        "# weight\n",
        "W = tf.Variable(tf.random_normal([9,1], seed=0), name='weight')\n",
        "\n",
        "# bias\n",
        "b = tf.Variable(tf.random_normal([1], seed=0), name='bias')"
      ],
      "execution_count": null,
      "outputs": []
    },
    {
      "metadata": {
        "_cell_guid": "56416585-56a4-442d-88f8-6cb2fb9f9101",
        "_uuid": "0fe1de012691c4da71e4b5dc9324204bd61cebae",
        "trusted": true,
        "collapsed": true,
        "id": "DQIHaOElUihN"
      },
      "cell_type": "code",
      "source": [
        "logits = tf.matmul(X,W) + b"
      ],
      "execution_count": null,
      "outputs": []
    },
    {
      "metadata": {
        "_cell_guid": "4881aae2-320c-4af2-a243-41c11a8f0c34",
        "_uuid": "9f792f4ee5c1fdc31de05ca8d4bb68c600bba200",
        "trusted": true,
        "collapsed": true,
        "id": "0NOzpZStUihO"
      },
      "cell_type": "code",
      "source": [
        "hypothesis = tf.nn.sigmoid(logits)\n",
        "\n",
        "cost_i = tf.nn.sigmoid_cross_entropy_with_logits(logits=logits,labels=Y)\n",
        "cost = tf.reduce_mean(cost_i)\n",
        "# cost = -tf.reduce_mean(Y * tf.log(hypothesis) + (1 - Y) * tf.log(1 - hypothesis))"
      ],
      "execution_count": null,
      "outputs": []
    },
    {
      "metadata": {
        "_cell_guid": "aadf51d1-b5dc-49f5-991c-45ca6ae0ecb2",
        "_uuid": "eebe65b3e3633ec738b05288d549ec9e4d13014c",
        "trusted": true,
        "collapsed": true,
        "id": "Sf3awDbKUihQ"
      },
      "cell_type": "code",
      "source": [
        "train = tf.train.GradientDescentOptimizer(learning_rate=0.1).minimize(cost)"
      ],
      "execution_count": null,
      "outputs": []
    },
    {
      "metadata": {
        "_cell_guid": "4984c760-fb34-45cf-82d6-6862438ab466",
        "_uuid": "26d175949daff82bd0a08115dd8600b1976f795e",
        "trusted": true,
        "collapsed": true,
        "id": "vrvIKpG_UihR"
      },
      "cell_type": "code",
      "source": [
        "prediction = tf.cast(hypothesis > 0.5, dtype=tf.float32)\n",
        "correct_prediction = tf.equal(prediction, Y)\n",
        "accuracy = tf.reduce_mean(tf.cast(correct_prediction, dtype=tf.float32))"
      ],
      "execution_count": null,
      "outputs": []
    },
    {
      "metadata": {
        "_cell_guid": "b49eb9b5-3381-4fae-a042-d0ca1d722e3a",
        "_uuid": "05ecab0b5cc0c38ec015c2e5d66f9901b71ca463",
        "trusted": true,
        "collapsed": true,
        "id": "NXjHmBMMUihS"
      },
      "cell_type": "code",
      "source": [
        "with tf.Session() as sess:\n",
        "    sess.run(tf.global_variables_initializer())\n",
        "    for step in range(10001):\n",
        "        sess.run(train, feed_dict={X: train_x, Y: train_y})\n",
        "        if step % 1000 == 0:\n",
        "            loss, acc = sess.run([cost, accuracy], feed_dict={X: train_x, Y: train_y})\n",
        "            print(\"Step: {:5}\\tLoss: {:.3f}\\tAcc: {:.2%}\".format(step, loss, acc))\n",
        "            \n",
        "    train_acc = sess.run(accuracy, feed_dict={X: train_x, Y: train_y})\n",
        "    test_acc,test_predict,test_correct = sess.run([accuracy,prediction,correct_prediction], feed_dict={X: test_x, Y: test_y})\n",
        "    print(\"Model Prediction =\", train_acc)\n",
        "    print(\"Test Prediction =\", test_acc)"
      ],
      "execution_count": null,
      "outputs": []
    }
  ],
  "metadata": {
    "kernelspec": {
      "display_name": "Python 3",
      "language": "python",
      "name": "python3"
    },
    "language_info": {
      "name": "python",
      "version": "3.6.4",
      "mimetype": "text/x-python",
      "codemirror_mode": {
        "name": "ipython",
        "version": 3
      },
      "pygments_lexer": "ipython3",
      "nbconvert_exporter": "python",
      "file_extension": ".py"
    },
    "colab": {
      "name": "single layer perceptron.ipynb",
      "provenance": [],
      "include_colab_link": true
    }
  },
  "nbformat": 4,
  "nbformat_minor": 0
}