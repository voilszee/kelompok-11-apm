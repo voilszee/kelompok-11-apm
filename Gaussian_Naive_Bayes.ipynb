{
  "metadata": {
    "kernelspec": {
      "language": "python",
      "display_name": "Python 3",
      "name": "python3"
    },
    "language_info": {
      "pygments_lexer": "ipython3",
      "nbconvert_exporter": "python",
      "version": "3.6.4",
      "file_extension": ".py",
      "codemirror_mode": {
        "name": "ipython",
        "version": 3
      },
      "name": "python",
      "mimetype": "text/x-python"
    },
    "colab": {
      "name": "Gaussian Naive Bayes.ipynb",
      "provenance": [],
      "include_colab_link": true
    }
  },
  "nbformat_minor": 0,
  "nbformat": 4,
  "cells": [
    {
      "cell_type": "markdown",
      "metadata": {
        "id": "view-in-github",
        "colab_type": "text"
      },
      "source": [
        "<a href=\"https://colab.research.google.com/github/voilszee/kelompok-11-apm/blob/main/Gaussian_Naive_Bayes.ipynb\" target=\"_parent\"><img src=\"https://colab.research.google.com/assets/colab-badge.svg\" alt=\"Open In Colab\"/></a>"
      ]
    },
    {
      "cell_type": "code",
      "source": [
        "import pandas as pd\n",
        "import numpy  as np"
      ],
      "metadata": {
        "id": "GJSrsq8zrQ6L",
        "trusted": true
      },
      "execution_count": null,
      "outputs": []
    },
    {
      "cell_type": "code",
      "source": [
        "df = pd.read_csv(\"C:\\Users\\ASUS\\Desktop\\data.csv\")\n",
        "data = df"
      ],
      "metadata": {
        "id": "bVzYA29h-MQl",
        "trusted": true
      },
      "execution_count": null,
      "outputs": []
    },
    {
      "cell_type": "code",
      "source": [
        "df.head()"
      ],
      "metadata": {
        "id": "nu5yW2qE-RmI",
        "trusted": true
      },
      "execution_count": null,
      "outputs": []
    },
    {
      "cell_type": "code",
      "source": [
        "data.info()"
      ],
      "metadata": {
        "trusted": true,
        "id": "MutHeF4Mmjxx"
      },
      "execution_count": null,
      "outputs": []
    },
    {
      "cell_type": "code",
      "source": [
        "from sklearn.model_selection import train_test_split\n",
        "\n",
        "x = data.drop(\"TAX\", axis = 1)\n",
        "y = data[\"TAX\"]\n",
        "x_train, x_test, y_train, y_test = train_test_split(x, y,train_size = 0.6, test_size = 0.4)\n",
        "print (x_train)\n",
        "print (y_train)"
      ],
      "metadata": {
        "id": "p_Kx1mUsU0s1",
        "trusted": true
      },
      "execution_count": null,
      "outputs": []
    },
    {
      "cell_type": "code",
      "source": [
        "from sklearn.naive_bayes import GaussianNB\n",
        "model = GaussianNB()\n",
        "model.fit(x_train,y_train)\n",
        "accs = accuracy_score(y_test,model.predict(x_test))\n",
        "print(\"Akurasi dari model menggunakan Algoritma Native Bayes : {}%\".format(100*accs))"
      ],
      "metadata": {
        "id": "mAnEHHza8rp7",
        "trusted": true
      },
      "execution_count": null,
      "outputs": []
    }
  ]
}