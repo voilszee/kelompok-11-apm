{
  "metadata": {
    "kernelspec": {
      "language": "python",
      "display_name": "Python 3",
      "name": "python3"
    },
    "language_info": {
      "pygments_lexer": "ipython3",
      "nbconvert_exporter": "python",
      "version": "3.6.4",
      "file_extension": ".py",
      "codemirror_mode": {
        "name": "ipython",
        "version": 3
      },
      "name": "python",
      "mimetype": "text/x-python"
    },
    "colab": {
      "name": "Eclat Algorithm .ipynb",
      "provenance": [],
      "include_colab_link": true
    }
  },
  "nbformat_minor": 0,
  "nbformat": 4,
  "cells": [
    {
      "cell_type": "markdown",
      "metadata": {
        "id": "view-in-github",
        "colab_type": "text"
      },
      "source": [
        "<a href=\"https://colab.research.google.com/github/voilszee/kelompok-11-apm/blob/main/Eclat_Algorithm_.ipynb\" target=\"_parent\"><img src=\"https://colab.research.google.com/assets/colab-badge.svg\" alt=\"Open In Colab\"/></a>"
      ]
    },
    {
      "cell_type": "markdown",
      "source": [
        "**Eclat Algorithm - Association Rule Learning** suggests what customers will buy, based on past purchases (i.e, dataset containing 7500 values)"
      ],
      "metadata": {
        "id": "9qkGYFDMMCq_"
      }
    },
    {
      "cell_type": "code",
      "source": [
        "!pip install apyori"
      ],
      "metadata": {
        "execution": {
          "iopub.status.busy": "2021-07-06T16:28:36.953064Z",
          "iopub.execute_input": "2021-07-06T16:28:36.953519Z",
          "iopub.status.idle": "2021-07-06T16:28:48.815917Z",
          "shell.execute_reply.started": "2021-07-06T16:28:36.953416Z",
          "shell.execute_reply": "2021-07-06T16:28:48.814615Z"
        },
        "trusted": true,
        "colab": {
          "base_uri": "https://localhost:8080/"
        },
        "id": "AZSpvkLiMCrE",
        "outputId": "481aa1a4-8331-443a-e96d-4ec9969b4469"
      },
      "execution_count": 1,
      "outputs": [
        {
          "output_type": "stream",
          "name": "stdout",
          "text": [
            "Looking in indexes: https://pypi.org/simple, https://us-python.pkg.dev/colab-wheels/public/simple/\n",
            "Collecting apyori\n",
            "  Downloading apyori-1.1.2.tar.gz (8.6 kB)\n",
            "Building wheels for collected packages: apyori\n",
            "  Building wheel for apyori (setup.py) ... \u001b[?25l\u001b[?25hdone\n",
            "  Created wheel for apyori: filename=apyori-1.1.2-py3-none-any.whl size=5974 sha256=2123624be9ea3c2669060bda9e3260ebd26ade471591609a8f9a55e1b4f472b9\n",
            "  Stored in directory: /root/.cache/pip/wheels/cb/f6/e1/57973c631d27efd1a2f375bd6a83b2a616c4021f24aab84080\n",
            "Successfully built apyori\n",
            "Installing collected packages: apyori\n",
            "Successfully installed apyori-1.1.2\n"
          ]
        }
      ]
    },
    {
      "cell_type": "code",
      "source": [
        "#importing libraries\n",
        "import numpy as np\n",
        "import matplotlib.pyplot as plt\n",
        "import pandas as pd"
      ],
      "metadata": {
        "execution": {
          "iopub.status.busy": "2021-07-06T16:29:24.350802Z",
          "iopub.execute_input": "2021-07-06T16:29:24.351193Z",
          "iopub.status.idle": "2021-07-06T16:29:24.356591Z",
          "shell.execute_reply.started": "2021-07-06T16:29:24.351162Z",
          "shell.execute_reply": "2021-07-06T16:29:24.355547Z"
        },
        "trusted": true,
        "id": "KpUc94XMMCrG"
      },
      "execution_count": 2,
      "outputs": []
    },
    {
      "cell_type": "code",
      "source": [
        "#importing dataset\n",
        "ds = pd.read_csv('market basket optimisation.csv'), header = None)\n",
        "transactions = []\n",
        "for i in range(0, 7501):\n",
        "  transactions.append([str(ds.values[i,j]) for j in range(0, 20)])"
      ],
      "metadata": {
        "execution": {
          "iopub.status.busy": "2021-07-06T16:30:09.483792Z",
          "iopub.execute_input": "2021-07-06T16:30:09.484181Z",
          "iopub.status.idle": "2021-07-06T16:30:10.571861Z",
          "shell.execute_reply.started": "2021-07-06T16:30:09.484151Z",
          "shell.execute_reply": "2021-07-06T16:30:10.570876Z"
        },
        "trusted": true,
        "id": "JoUPRhKaMCrH"
      },
      "execution_count": null,
      "outputs": []
    },
    {
      "cell_type": "code",
      "source": [
        "#training eclat model to the dataset\n",
        "from apyori import apriori\n",
        "rules = apriori(transactions = transactions, min_support = 0.003, min_confidence = 0.2, min_lift = 3, min_length = 2, max_length = 2)"
      ],
      "metadata": {
        "execution": {
          "iopub.status.busy": "2021-07-06T16:30:53.809425Z",
          "iopub.execute_input": "2021-07-06T16:30:53.809836Z",
          "iopub.status.idle": "2021-07-06T16:30:53.815183Z",
          "shell.execute_reply.started": "2021-07-06T16:30:53.809803Z",
          "shell.execute_reply": "2021-07-06T16:30:53.813858Z"
        },
        "trusted": true,
        "id": "1PHws5TgMCrI"
      },
      "execution_count": null,
      "outputs": []
    },
    {
      "cell_type": "markdown",
      "source": [
        "Visualising the results"
      ],
      "metadata": {
        "id": "1paPGNM9MCrJ"
      }
    },
    {
      "cell_type": "code",
      "source": [
        "#Displaying the first results coming directly from the output of the apriori function\n",
        "results = list(rules)\n",
        "results"
      ],
      "metadata": {
        "execution": {
          "iopub.status.busy": "2021-07-06T16:33:36.565593Z",
          "iopub.execute_input": "2021-07-06T16:33:36.56605Z",
          "iopub.status.idle": "2021-07-06T16:33:36.706606Z",
          "shell.execute_reply.started": "2021-07-06T16:33:36.566014Z",
          "shell.execute_reply": "2021-07-06T16:33:36.7051Z"
        },
        "trusted": true,
        "id": "7DrIDnn5MCrK"
      },
      "execution_count": null,
      "outputs": []
    },
    {
      "cell_type": "code",
      "source": [
        "def inspect(results):\n",
        "    lhs         = [tuple(result[2][0][0])[0] for result in results]\n",
        "    rhs         = [tuple(result[2][0][1])[0] for result in results]\n",
        "    supports    = [result[1] for result in results]\n",
        "    return list(zip(lhs, rhs, supports))\n",
        "resultsinDataFrame = pd.DataFrame(inspect(results), columns = ['Product 1', 'Product 2', 'Support'])"
      ],
      "metadata": {
        "execution": {
          "iopub.status.busy": "2021-07-06T16:34:06.009376Z",
          "iopub.execute_input": "2021-07-06T16:34:06.009789Z",
          "iopub.status.idle": "2021-07-06T16:34:06.01863Z",
          "shell.execute_reply.started": "2021-07-06T16:34:06.009757Z",
          "shell.execute_reply": "2021-07-06T16:34:06.017647Z"
        },
        "trusted": true,
        "id": "8gXKw5c7MCrL"
      },
      "execution_count": null,
      "outputs": []
    },
    {
      "cell_type": "code",
      "source": [
        "resultsinDataFrame.nlargest(n = 10, columns = 'Support')"
      ],
      "metadata": {
        "execution": {
          "iopub.status.busy": "2021-07-06T16:34:31.490587Z",
          "iopub.execute_input": "2021-07-06T16:34:31.49126Z",
          "iopub.status.idle": "2021-07-06T16:34:31.530939Z",
          "shell.execute_reply.started": "2021-07-06T16:34:31.491212Z",
          "shell.execute_reply": "2021-07-06T16:34:31.529275Z"
        },
        "trusted": true,
        "id": "jqZFYiANMCrM"
      },
      "execution_count": null,
      "outputs": []
    }
  ]
}